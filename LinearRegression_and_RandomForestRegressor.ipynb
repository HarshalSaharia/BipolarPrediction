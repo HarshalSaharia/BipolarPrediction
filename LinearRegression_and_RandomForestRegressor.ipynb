{
 "cells": [
  {
   "cell_type": "code",
   "execution_count": 1,
   "id": "a396f99c-b77a-43d8-9c87-502be8792599",
   "metadata": {},
   "outputs": [
    {
     "ename": "ModuleNotFoundError",
     "evalue": "No module named 'seaborn'",
     "output_type": "error",
     "traceback": [
      "\u001b[1;31m---------------------------------------------------------------------------\u001b[0m",
      "\u001b[1;31mModuleNotFoundError\u001b[0m                       Traceback (most recent call last)",
      "Cell \u001b[1;32mIn[1], line 4\u001b[0m\n\u001b[0;32m      2\u001b[0m \u001b[38;5;28;01mimport\u001b[39;00m \u001b[38;5;21;01mnumpy\u001b[39;00m \u001b[38;5;28;01mas\u001b[39;00m \u001b[38;5;21;01mnp\u001b[39;00m\n\u001b[0;32m      3\u001b[0m \u001b[38;5;28;01mimport\u001b[39;00m \u001b[38;5;21;01mmatplotlib\u001b[39;00m\u001b[38;5;21;01m.\u001b[39;00m\u001b[38;5;21;01mpyplot\u001b[39;00m \u001b[38;5;28;01mas\u001b[39;00m \u001b[38;5;21;01mplt\u001b[39;00m\n\u001b[1;32m----> 4\u001b[0m \u001b[38;5;28;01mimport\u001b[39;00m \u001b[38;5;21;01mseaborn\u001b[39;00m \u001b[38;5;28;01mas\u001b[39;00m \u001b[38;5;21;01msns\u001b[39;00m\n\u001b[0;32m      5\u001b[0m get_ipython()\u001b[38;5;241m.\u001b[39mrun_line_magic(\u001b[38;5;124m'\u001b[39m\u001b[38;5;124mmatplotlib\u001b[39m\u001b[38;5;124m'\u001b[39m, \u001b[38;5;124m'\u001b[39m\u001b[38;5;124minline\u001b[39m\u001b[38;5;124m'\u001b[39m)\n",
      "\u001b[1;31mModuleNotFoundError\u001b[0m: No module named 'seaborn'"
     ]
    }
   ],
   "source": [
    "import pandas as pd\n",
    "import numpy as np\n",
    "import matplotlib.pyplot as plt\n",
    "import seaborn as sns\n",
    "%matplotlib inline\n"
   ]
  },
  {
   "cell_type": "markdown",
   "id": "c4cdfb48-9b7e-4f77-bc76-1950f1b076cd",
   "metadata": {},
   "source": [
    "Load The Dataset"
   ]
  },
  {
   "cell_type": "code",
   "execution_count": null,
   "id": "8c5f395a-89bb-4495-b4ac-5c71fdddd244",
   "metadata": {},
   "outputs": [],
   "source": [
    "dataset1 = pd.read_csv('1- mental-illnesses-prevalence.csv')\n",
    "dataset2 = pd.read_csv('2- burden-disease-from-each-mental-illness(1).csv')\n",
    "dataset3 = pd.read_csv('3- adult-population-covered-in-primary-data-on-the-prevalence-of-major-depression.csv')\n",
    "dataset4 = pd.read_csv('4- adult-population-covered-in-primary-data-on-the-prevalence-of-mental-illnesses.csv')\n",
    "dataset5 = pd.read_csv('5- anxiety-disorders-treatment-gap.csv')\n",
    "dataset6 = pd.read_csv('6- depressive-symptoms-across-us-population.csv')\n",
    "dataset7 = pd.read_csv('7- number-of-countries-with-primary-data-on-prevalence-of-mental-illnesses-in-the-global-burden-of-disease-study.csv')"
   ]
  },
  {
   "cell_type": "code",
   "execution_count": null,
   "id": "9d1842dd-20a0-4e2c-84bc-c8895ef1c751",
   "metadata": {},
   "outputs": [],
   "source": [
    "datasets = [dataset1, dataset2, dataset3, dataset4, dataset5, dataset6, dataset7]"
   ]
  },
  {
   "cell_type": "markdown",
   "id": "d10fd496-fddf-48ac-9f36-f9264fb62de9",
   "metadata": {},
   "source": [
    " Handle missing values, especially in the 'Code' column"
   ]
  },
  {
   "cell_type": "code",
   "execution_count": null,
   "id": "3dfcee36-f1d3-4d5f-a5d6-90227feb7dc6",
   "metadata": {},
   "outputs": [],
   "source": [
    "for i, dataset in enumerate(datasets, start=1):\n",
    "    dataset['Code'] = dataset['Code'].fillna('Unknown')\n",
    "    print(f\"Dataset {i} missing values after handling 'Code' column:\\n\", dataset.isnull().sum())\n"
   ]
  },
  {
   "cell_type": "code",
   "execution_count": null,
   "id": "6267a0ba-3a64-420e-99cb-7fbc27d17529",
   "metadata": {},
   "outputs": [],
   "source": [
    "dataset4['Schizophrenia'] = pd.to_numeric(dataset4['Schizophrenia'], errors='coerce')"
   ]
  },
  {
   "cell_type": "code",
   "execution_count": null,
   "id": "19d60b8b-2970-4959-ae18-d966d77f9550",
   "metadata": {},
   "outputs": [],
   "source": [
    "print(\"Columns of dataset1:\")\n",
    "print(dataset1.columns)"
   ]
  },
  {
   "cell_type": "markdown",
   "id": "853328d2-0cae-4276-a346-1f2c2992dfac",
   "metadata": {},
   "source": [
    "Exploratory Data Analysis (EDA)"
   ]
  },
  {
   "cell_type": "code",
   "execution_count": null,
   "id": "89eb3a9c-d897-41d1-a637-821e700b5ed2",
   "metadata": {},
   "outputs": [],
   "source": [
    "def plot_distribution(dataset, column, title):\n",
    "    plt.figure(figsize=(10, 6))\n",
    "    if column in dataset.columns:\n",
    "        sns.histplot(dataset[column].dropna(), kde=True)\n",
    "        plt.title(title)\n",
    "    else:\n",
    "        print(f\"Column '{column}' not found in the dataset.\")\n",
    "    "
   ]
  },
  {
   "cell_type": "code",
   "execution_count": null,
   "id": "f7540380-b131-4855-a088-134a3d29f1ba",
   "metadata": {},
   "outputs": [],
   "source": [
    "print(\"Columns of dataset1:\")\n",
    "print(dataset1.columns)"
   ]
  },
  {
   "cell_type": "code",
   "execution_count": null,
   "id": "54f096bf-61cf-4e4c-ac50-7e46811d1f62",
   "metadata": {},
   "outputs": [],
   "source": [
    "print(\"Columns of dataset5:\")\n",
    "print(dataset5.columns)"
   ]
  },
  {
   "cell_type": "code",
   "execution_count": null,
   "id": "2c62387f-6ad5-4cfa-a958-e39557b2a37e",
   "metadata": {},
   "outputs": [],
   "source": [
    "plot_distribution(dataset1, 'Schizophrenia disorders (share of population) - Sex: Both - Age: Age-standardized', 'Distribution of Schizophrenia Prevalence')\n",
    "plot_distribution(dataset5, 'Untreated, conditional', 'Distribution of Anxiety Disorders Treatment Gap')"
   ]
  },
  {
   "cell_type": "markdown",
   "id": "3a0e963f-289a-4d61-85a4-04ecc7b2492c",
   "metadata": {},
   "source": [
    "Compare mental illness rates across different countries and years"
   ]
  },
  {
   "cell_type": "code",
   "execution_count": null,
   "id": "94e8909b-7f8d-4664-a575-66fd972aa8a8",
   "metadata": {},
   "outputs": [],
   "source": [
    "def compare_mental_illness_rates(dataset, illness_column, title):\n",
    "    plt.figure(figsize=(14, 8))  # Adjust the figure size as needed\n",
    "    sns.lineplot(data=dataset, x='Year', y=illness_column, hue='Entity', palette='tab10', linewidth=2.5)\n",
    "    plt.title(title)\n",
    "    plt.xlabel('Year')\n",
    "    plt.ylabel('Schizophrenia')\n",
    "    plt.legend(bbox_to_anchor=(1.05, 1), loc='upper left')\n",
    "    plt.tight_layout()\n",
    "    plt.legend(loc='upper right', bbox_to_anchor=(1.25, 1))"
   ]
  },
  {
   "cell_type": "code",
   "execution_count": null,
   "id": "0d57b6e7-2a6d-4d4b-b23a-670f32a36217",
   "metadata": {},
   "outputs": [],
   "source": [
    "compare_mental_illness_rates(dataset1, 'Schizophrenia disorders (share of population) - Sex: Both - Age: Age-standardized', 'Schizophrenia Rates Over Time by Country')"
   ]
  },
  {
   "cell_type": "code",
   "execution_count": null,
   "id": "f30cc048-86a5-442c-a947-0bc0f8d82205",
   "metadata": {},
   "outputs": [],
   "source": [
    "def treatment_gap_impact(dataset1, dataset5):\n",
    "    merged_df = pd.merge(dataset1, dataset5, on=['Entity', 'Year'], how='inner')\n",
    "    plt.figure(figsize=(10, 6))\n",
    "    sns.scatterplot(data=merged_df, x='Untreated, conditional', y='Schizophrenia disorders (share of population) - Sex: Both - Age: Age-standardized')\n",
    "    plt.title('Impact of Treatment Gap on Schizophrenia Prevalence')"
   ]
  },
  {
   "cell_type": "code",
   "execution_count": null,
   "id": "21af9ec4-a6b8-487b-a4a3-f9c319f7ec47",
   "metadata": {},
   "outputs": [],
   "source": [
    "treatment_gap_impact(dataset1, dataset5)"
   ]
  },
  {
   "cell_type": "code",
   "execution_count": null,
   "id": "149d1ada-533a-444e-aec0-f935f096cc31",
   "metadata": {},
   "outputs": [],
   "source": [
    "def correlation_analysis(dataset, columns, title):\n",
    "    correlation = dataset[columns].corr()\n",
    "    plt.figure(figsize=(10, 8))\n",
    "    sns.heatmap(correlation, annot=True, cmap='coolwarm')\n",
    "    plt.title(title)"
   ]
  },
  {
   "cell_type": "code",
   "execution_count": null,
   "id": "1560175e-7910-4a4a-b6a1-8d30424eadc6",
   "metadata": {},
   "outputs": [],
   "source": [
    "print(dataset4.columns)"
   ]
  },
  {
   "cell_type": "code",
   "execution_count": null,
   "id": "dcec826b-fdb0-4983-9826-0a029f5bb425",
   "metadata": {},
   "outputs": [],
   "source": [
    "correlation_analysis(dataset4, ['Schizophrenia', 'Bipolar disorder', 'Eating disorders'], 'Correlation Analysis of Mental Illnesses')"
   ]
  },
  {
   "cell_type": "code",
   "execution_count": null,
   "id": "7c9dcbee-52ca-4d7e-af0f-79dee3ee1973",
   "metadata": {},
   "outputs": [],
   "source": [
    "def trend_analysis(dataset, column, title):\n",
    "    plt.figure(figsize=(10, 6))\n",
    "    sns.lineplot(data=dataset, x='Year', y=column, ci=None)\n",
    "    plt.title(title)"
   ]
  },
  {
   "cell_type": "code",
   "execution_count": null,
   "id": "99096e00-c9af-4f89-b7e6-6ef7ab2e6597",
   "metadata": {},
   "outputs": [],
   "source": [
    "trend_analysis(dataset1, 'Schizophrenia disorders (share of population) - Sex: Both - Age: Age-standardized', 'Trend Analysis of Schizophrenia Prevalence Over Time')"
   ]
  },
  {
   "cell_type": "code",
   "execution_count": null,
   "id": "6a9ea173-68a8-4c0c-8f2a-e9f0870c61ad",
   "metadata": {},
   "outputs": [],
   "source": [
    "def generate_visual_report():\n",
    "    plot_distribution(dataset1, 'Schizophrenia disorders (share of population) - Sex: Both - Age: Age-standardized', 'Distribution of Schizophrenia Prevalence')\n",
    "    plot_distribution(dataset5, 'Untreated, conditional', 'Distribution of Anxiety Disorders Treatment Gap')\n",
    "    compare_mental_illness_rates(dataset1, 'Schizophrenia disorders (share of population) - Sex: Both - Age: Age-standardized', 'Schizophrenia Rates Over Time by Country')\n",
    "    treatment_gap_impact(dataset1, dataset5)\n",
    "    correlation_analysis(dataset4, ['Schizophrenia', 'Bipolar disorder', 'Eating disorders'], 'Correlation Analysis of Mental Illnesses')\n",
    "    trend_analysis(dataset1, 'Schizophrenia disorders (share of population) - Sex: Both - Age: Age-standardized', 'Trend Analysis of Schizophrenia Prevalence Over Time')"
   ]
  },
  {
   "cell_type": "code",
   "execution_count": null,
   "id": "c27925f3-23b7-4905-932c-ab19942b3575",
   "metadata": {},
   "outputs": [],
   "source": [
    "generate_visual_report()"
   ]
  },
  {
   "cell_type": "markdown",
   "id": "1cb54fe1-ffa2-447d-960a-f246df35f56a",
   "metadata": {},
   "source": [
    "Summarize key insights and trends"
   ]
  },
  {
   "cell_type": "code",
   "execution_count": null,
   "id": "90353d99-6995-49fa-b08d-8fc77fcf3d9e",
   "metadata": {},
   "outputs": [],
   "source": [
    "def summarize_insights():\n",
    "    print(\"Key Insights and Trends:\")\n",
    "    print(\"- Schizophrenia prevalence shows a normal distribution across the population.\")\n",
    "    print(\"- Significant treatment gaps exist for anxiety disorders, with a wide range in percentages.\")\n",
    "    print(\"- Schizophrenia rates vary across countries and years, showing different trends.\")\n",
    "    print(\"- A higher treatment gap is associated with higher prevalence of schizophrenia.\")\n",
    "    print(\"- There are moderate correlations between different mental illnesses, indicating potential common factors.\")\n",
    "    print(\"- Schizophrenia prevalence has shown varying trends over the years, highlighting changes in healthcare and awareness.\")\n"
   ]
  },
  {
   "cell_type": "code",
   "execution_count": null,
   "id": "a44895cd-ca45-46f0-8c5e-fdac1cc09238",
   "metadata": {},
   "outputs": [],
   "source": [
    "summarize_insights()"
   ]
  },
  {
   "cell_type": "markdown",
   "id": "eae8e4bb-d9d2-4048-b0e2-8037e77d6666",
   "metadata": {},
   "source": [
    "Linear Regression and Random Forest Regressor to predict Schizophrenia prevalence"
   ]
  },
  {
   "cell_type": "code",
   "execution_count": null,
   "id": "919f0eaf-abb8-4880-a91d-193f49f377ae",
   "metadata": {},
   "outputs": [],
   "source": [
    "merged_df = pd.merge(dataset1, dataset5, on=['Entity', 'Year'], how='inner')\n",
    "print(\"Merged DataFrame columns:\", merged_df.columns)"
   ]
  },
  {
   "cell_type": "code",
   "execution_count": null,
   "id": "c0b7b87d-3e64-4bfb-beca-9885eb0cfc54",
   "metadata": {},
   "outputs": [],
   "source": [
    "merged_df = pd.merge(dataset1, dataset5, on=['Entity', 'Year'], how='inner')\n",
    "print(\"Merged DataFrame columns:\", merged_df.columns)  # Verify the column names\n",
    "\n",
    "# Check if 'Schizophrenia' column exists\n",
    "if 'Schizophrenia disorders (share of population) - Sex: Both - Age: Age-standardized' not in merged_df.columns:\n",
    "    print(\"Error: 'Schizophrenia' column not found in merged DataFrame.\")\n",
    "else:\n",
    "    # Select relevant columns\n",
    "    merged_df = merged_df[['Year', 'Entity', 'Schizophrenia disorders (share of population) - Sex: Both - Age: Age-standardized', 'Untreated, conditional']].dropna()\n",
    "\n",
    "    # Encode categorical variables\n",
    "    merged_df = pd.get_dummies(merged_df, columns=['Entity'], drop_first=True)\n",
    "\n",
    "    "
   ]
  },
  {
   "cell_type": "code",
   "execution_count": null,
   "id": "9ec1e59c-090e-4b2d-a814-6ddc54d540c4",
   "metadata": {},
   "outputs": [],
   "source": [
    "print(dataset1.columns)"
   ]
  },
  {
   "cell_type": "code",
   "execution_count": null,
   "id": "a3f7f4cf-e37a-4437-80a3-d9be771c35f7",
   "metadata": {},
   "outputs": [],
   "source": [
    "dataset1.rename(columns={'Schizophrenia disorders (share of population) - Sex: Both - Age: Age-standardized': 'Schizophrenia disorders', \n",
    "                          'Depressive disorders (share of population) - Sex: Both - Age: Age-standardized': 'Depressive disorders',\n",
    "                         'Anxiety disorders (share of population) - Sex: Both - Age: Age-standardized':'Anxiety disorders',\n",
    "                         'Bipolar disorders (share of population) - Sex: Both - Age: Age-standardized':'Bipolar disorders',\n",
    "                         'Eating disorders (share of population) - Sex: Both - Age: Age-standardized':'Eating disorders'})"
   ]
  },
  {
   "cell_type": "code",
   "execution_count": null,
   "id": "9c63f620-c158-4667-93f7-b824bd7e78e4",
   "metadata": {},
   "outputs": [],
   "source": [
    "df = pd.DataFrame(dataset1.rename(columns={'Schizophrenia disorders (share of population) - Sex: Both - Age: Age-standardized': 'Schizophrenia disorders', \n",
    "                          'Depressive disorders (share of population) - Sex: Both - Age: Age-standardized': 'Depressive disorders',\n",
    "                         'Anxiety disorders (share of population) - Sex: Both - Age: Age-standardized':'Anxiety disorders',\n",
    "                         'Bipolar disorders (share of population) - Sex: Both - Age: Age-standardized':'Bipolar disorders',\n",
    "                         'Eating disorders (share of population) - Sex: Both - Age: Age-standardized':'Eating disorders'}))\n",
    "df.head()\n",
    "\n"
   ]
  },
  {
   "cell_type": "code",
   "execution_count": null,
   "id": "5ce08df5-10aa-4197-ad43-1cc5fd428843",
   "metadata": {},
   "outputs": [],
   "source": [
    "df.info()"
   ]
  },
  {
   "cell_type": "code",
   "execution_count": null,
   "id": "5d8864bb-e61c-454c-b1b1-889060b25879",
   "metadata": {},
   "outputs": [],
   "source": [
    "features = ['Schizophrenia disorders', 'Depressive disorders','Anxiety disorders','Eating disorders']\n",
    "for feature in features:\n",
    "    if feature not in df.columns:\n",
    "        print(f\"Column '{feature}' not found in the dataframe.\")\n",
    "X_model = df[features]\n",
    "y_model = df[\"Bipolar disorders\"]"
   ]
  },
  {
   "cell_type": "code",
   "execution_count": null,
   "id": "077dfa30-b3f1-4ae2-82b5-fe31be3a1206",
   "metadata": {},
   "outputs": [],
   "source": [
    "from sklearn import preprocessing\n",
    "from sklearn import metrics"
   ]
  },
  {
   "cell_type": "code",
   "execution_count": null,
   "id": "d8429b19-3e55-446d-9b6d-4608b07cf510",
   "metadata": {},
   "outputs": [],
   "source": [
    "scaler = preprocessing.MinMaxScaler()\n",
    "X = scaler.fit_transform(X_model)"
   ]
  },
  {
   "cell_type": "code",
   "execution_count": null,
   "id": "c7eb6989-4a88-43ea-aec9-7c0282589d4a",
   "metadata": {},
   "outputs": [],
   "source": [
    "X"
   ]
  },
  {
   "cell_type": "code",
   "execution_count": null,
   "id": "42cb5fd5",
   "metadata": {},
   "outputs": [],
   "source": [
    "import pickle\n",
    "pickle.dump(scaler,open('scaler.pkl','wb'))"
   ]
  },
  {
   "cell_type": "code",
   "execution_count": null,
   "id": "04ba6a63-4253-4bcd-80e2-c70a5a2b4956",
   "metadata": {},
   "outputs": [],
   "source": [
    "from sklearn.model_selection import train_test_split\n",
    "from sklearn.linear_model import LinearRegression\n",
    "from sklearn.ensemble import RandomForestRegressor\n",
    "from sklearn.model_selection import GridSearchCV\n",
    "from sklearn.metrics import mean_squared_error, r2_score"
   ]
  },
  {
   "cell_type": "markdown",
   "id": "cec01c51-cccc-4d30-83d6-dd591f26dc2e",
   "metadata": {},
   "source": [
    "Linear Regression"
   ]
  },
  {
   "cell_type": "code",
   "execution_count": null,
   "id": "f7ccb223-d8df-493e-ba7d-366a91e56904",
   "metadata": {},
   "outputs": [],
   "source": [
    " X_train, X_test, y_train, y_test = train_test_split(X, y_model, test_size=0.2, random_state=0)"
   ]
  },
  {
   "cell_type": "code",
   "execution_count": null,
   "id": "10f81a7e-f41d-4b52-8cd9-cb7ae426fbda",
   "metadata": {},
   "outputs": [],
   "source": [
    "lr_model = LinearRegression()\n",
    "lr_model.fit(X_train, y_train)"
   ]
  },
  {
   "cell_type": "code",
   "execution_count": null,
   "id": "63252b45-fcb1-4065-934b-5fe10efcb8fe",
   "metadata": {},
   "outputs": [],
   "source": [
    "y_pred_lr = lr_model.predict(X_test)"
   ]
  },
  {
   "cell_type": "markdown",
   "id": "3d4db306-c827-48ca-8821-952880a4284d",
   "metadata": {},
   "source": [
    "Performance Metrics"
   ]
  },
  {
   "cell_type": "code",
   "execution_count": null,
   "id": "4fb252ab-348e-4257-8266-d91ee00e1ac1",
   "metadata": {},
   "outputs": [],
   "source": [
    "mse_lr = mean_squared_error(y_test, y_pred_lr)\n",
    "r2_lr = r2_score(y_test, y_pred_lr)"
   ]
  },
  {
   "cell_type": "code",
   "execution_count": null,
   "id": "ecb64217-f5a7-48e8-9893-ad79aa53a562",
   "metadata": {},
   "outputs": [],
   "source": [
    "print(\"Linear Regression - Mean Squared Error:\", mse_lr)\n",
    "print(\"Linear Regression - R-squared:\", r2_lr)"
   ]
  },
  {
   "cell_type": "markdown",
   "id": "04854122-58c0-470a-a9ab-32484a275e55",
   "metadata": {},
   "source": [
    "Random Forest Regressor"
   ]
  },
  {
   "cell_type": "code",
   "execution_count": null,
   "id": "89bed2b1-0819-4e0f-8b30-529dcea7d4ed",
   "metadata": {},
   "outputs": [],
   "source": [
    "rf_model = RandomForestRegressor()\n",
    "\n",
    "# Train the model\n",
    "rf_model.fit(X_train, y_train)\n",
    "import pickle\n",
    "with open('randomForest.pkl', 'wb') as model_file:\n",
    "    pickle.dump(rf_model, model_file)\n",
    "\n",
    "# Make predictions\n",
    "y_pred = rf_model.predict(X_test)"
   ]
  },
  {
   "cell_type": "markdown",
   "id": "476ad151-aef7-4b2e-9a4f-ec3933bc7f00",
   "metadata": {},
   "source": [
    "Performance Metrics"
   ]
  },
  {
   "cell_type": "code",
   "execution_count": null,
   "id": "41e88fb0-d50b-4bbb-a98d-16a72d6617d0",
   "metadata": {},
   "outputs": [],
   "source": [
    "mse_rf = mean_squared_error(y_test, y_pred)\n",
    "r2_rf = r2_score(y_test, y_pred)"
   ]
  },
  {
   "cell_type": "code",
   "execution_count": null,
   "id": "b8d55e43-d95b-49fb-89ed-801f25169194",
   "metadata": {},
   "outputs": [],
   "source": [
    " print(\"Random Forest Regressor - Mean Squared Error:\", mse_rf)\n",
    " print(\"Random Forest Regressor - R-squared:\", r2_rf)"
   ]
  },
  {
   "cell_type": "code",
   "execution_count": null,
   "id": "535aff3c-7ef6-46d0-b302-96cd410b1af9",
   "metadata": {},
   "outputs": [],
   "source": [
    "plt.figure(figsize=(14, 6))\n",
    "plt.subplot(1, 2, 1)\n",
    "plt.scatter(y_test, y_pred_lr)\n",
    "plt.plot([y_test.min(), y_test.max()], [y_test.min(), y_test.max()], 'k--', lw=2)\n",
    "plt.xlabel('Actual')\n",
    "plt.ylabel('Predicted')\n",
    "plt.title('Linear Regression: Actual vs Predicted Bipolar disorder')"
   ]
  },
  {
   "cell_type": "code",
   "execution_count": null,
   "id": "23b1160b-c54d-4d4d-a94d-3a5262556a4b",
   "metadata": {},
   "outputs": [],
   "source": [
    "plt.subplot(1, 2, 2)\n",
    "plt.scatter(y_test, y_pred)\n",
    "plt.plot([y_test.min(), y_test.max()], [y_test.min(), y_test.max()], 'k--', lw=2)\n",
    "plt.xlabel('Actual')\n",
    "plt.ylabel('Predicted')\n",
    "plt.title('Random Forest Regressor: Actual vs Predicted Bipolar disorder')"
   ]
  },
  {
   "cell_type": "code",
   "execution_count": null,
   "id": "a29d46b9-8ff3-496a-9aab-bc48c0978fcc",
   "metadata": {},
   "outputs": [],
   "source": [
    "predictions = rf_model.predict(X_model)\n",
    "print(predictions)"
   ]
  },
  {
   "cell_type": "code",
   "execution_count": null,
   "id": "38e6b38f-e377-407b-9215-4fa3821fb270",
   "metadata": {},
   "outputs": [],
   "source": [
    "X_train, X_test, y_train, y_test = train_test_split(X_model, y_model,test_size=0.2,random_state=0)\n",
    "Model = RandomForestRegressor()\n",
    "Model.fit(X_train, y_train)\n",
    "y_pred = Model.predict(X_test)\n",
    "r2 = metrics.r2_score(y_test, y_pred)\n",
    "r2"
   ]
  },
  {
   "cell_type": "code",
   "execution_count": null,
   "id": "e4476483-f4d0-4242-87b7-1c6bec286bbd",
   "metadata": {},
   "outputs": [],
   "source": [
    "a = X_test[\"Eating disorders\"]\n",
    "b = y_test\n",
    "c = X_test[\"Eating disorders\"]\n",
    "d = y_pred"
   ]
  },
  {
   "cell_type": "code",
   "execution_count": null,
   "id": "ed7167e8-c082-4f47-a4f7-36c4e3586eb8",
   "metadata": {},
   "outputs": [],
   "source": [
    "plt.figure(figsize= (20,10), dpi=200)\n",
    "plt.title(\"Eating Prediction\")\n",
    "plt.xlabel(\"Eating\")\n",
    "plt.ylabel(\"Bipolar\")\n",
    "plt.xticks(fontsize=15)\n",
    "plt.yticks(fontsize=15)\n",
    "plt.scatter(a,b, color = 'blue', label = \"Real Values\")\n",
    "plt.scatter(c,d, color = 'maroon', label = \"Predicted Values\", marker=\"H\", s=80)\n",
    "plt.legend(fontsize=15)\n",
    "print(y_pred)"
   ]
  },
  {
   "cell_type": "code",
   "execution_count": null,
   "id": "821fd377-80e4-4cbc-bc43-43f59e227085",
   "metadata": {},
   "outputs": [],
   "source": [
    "a1 = X_test[\"Schizophrenia disorders\"]\n",
    "b1 = y_test\n",
    "c1 = X_test[\"Schizophrenia disorders\"]\n",
    "d1 = y_pred"
   ]
  },
  {
   "cell_type": "code",
   "execution_count": null,
   "id": "fe7fe999-63b6-4a93-87e5-99008dd15526",
   "metadata": {},
   "outputs": [],
   "source": [
    "plt.figure(figsize= (20,10), dpi=200)\n",
    "plt.title(\"Schizophrenia Prediction\")\n",
    "plt.xlabel(\"Schizophrenia\")\n",
    "plt.ylabel(\"Bipolar\")\n",
    "plt.xticks(fontsize=15)\n",
    "plt.yticks(fontsize=15)\n",
    "plt.scatter(a1,b1, color = 'blue', label = \"Real Values\")\n",
    "plt.scatter(c1,d1, color = 'Orange', label = \"Predicted Values\", marker=\"H\", s=80)\n",
    "plt.legend(fontsize=15)\n",
    "print(y_pred)"
   ]
  },
  {
   "cell_type": "code",
   "execution_count": null,
   "id": "b308a443-e0f6-48aa-8127-834e802af95d",
   "metadata": {},
   "outputs": [],
   "source": [
    "a3 = X_test[\"Depressive disorders\"]\n",
    "b3 = y_test\n",
    "c3 = X_test[\"Depressive disorders\"]\n",
    "d3 = y_pred"
   ]
  },
  {
   "cell_type": "code",
   "execution_count": null,
   "id": "b893fe69-bd10-4bf1-96e5-8f079ca20760",
   "metadata": {},
   "outputs": [],
   "source": [
    "plt.figure(figsize= (20,10), dpi=200)\n",
    "plt.title(\"Depressive Prediction\")\n",
    "plt.xlabel(\"Depressive\")\n",
    "plt.ylabel(\"Bipolar\")\n",
    "plt.xticks(fontsize=15)\n",
    "plt.yticks(fontsize=15)\n",
    "plt.scatter(a3,b3, color = 'blue', label = \"Real Values\")\n",
    "plt.scatter(c3,d3, color = 'green', label = \"Predicted Values\", marker=\"H\", s=80)\n",
    "plt.legend(fontsize=15)\n",
    "print(y_pred)"
   ]
  },
  {
   "cell_type": "markdown",
   "id": "bcd700aa-eb8e-4a4e-8320-9d516d87b71f",
   "metadata": {},
   "source": [
    "As we can see we have achieved an accuracy of 99.6% by using Random Forest Regressor"
   ]
  }
 ],
 "metadata": {
  "kernelspec": {
   "display_name": "Python 3 (ipykernel)",
   "language": "python",
   "name": "python3"
  },
  "language_info": {
   "codemirror_mode": {
    "name": "ipython",
    "version": 3
   },
   "file_extension": ".py",
   "mimetype": "text/x-python",
   "name": "python",
   "nbconvert_exporter": "python",
   "pygments_lexer": "ipython3",
   "version": "3.11.5"
  }
 },
 "nbformat": 4,
 "nbformat_minor": 5
}
